{
 "cells": [
  {
   "cell_type": "code",
   "execution_count": 1,
   "metadata": {
    "ExecuteTime": {
     "end_time": "2020-01-13T12:38:14.217158Z",
     "start_time": "2020-01-13T12:38:12.768361Z"
    }
   },
   "outputs": [],
   "source": [
    "import numpy as np\n",
    "import pandas as pd\n",
    "import re"
   ]
  },
  {
   "cell_type": "markdown",
   "metadata": {},
   "source": [
    "# Load/Pre process"
   ]
  },
  {
   "cell_type": "code",
   "execution_count": 2,
   "metadata": {
    "ExecuteTime": {
     "end_time": "2020-01-13T12:38:15.807742Z",
     "start_time": "2020-01-13T12:38:14.399670Z"
    }
   },
   "outputs": [],
   "source": [
    "data = pd.read_json(\"arxivData.json\")"
   ]
  },
  {
   "cell_type": "code",
   "execution_count": 3,
   "metadata": {
    "ExecuteTime": {
     "end_time": "2020-01-13T12:38:15.833671Z",
     "start_time": "2020-01-13T12:38:15.811732Z"
    }
   },
   "outputs": [
    {
     "data": {
      "text/plain": [
       "'We propose an architecture for VQA which utilizes recurrent layers to\\ngenerate visual and textual attention. The memory characteristic of the\\nproposed recurrent attention units offers a rich joint embedding of visual and\\ntextual features and enables the model to reason relations between several\\nparts of the image and question. Our single model outperforms the first place\\nwinner on the VQA 1.0 dataset, performs within margin to the current\\nstate-of-the-art ensemble model. We also experiment with replacing attention\\nmechanisms in other state-of-the-art models with our implementation and show\\nincreased accuracy. In both cases, our recurrent attention mechanism improves\\nperformance in tasks requiring sequential or relational reasoning on the VQA\\ndataset.'"
      ]
     },
     "execution_count": 3,
     "metadata": {},
     "output_type": "execute_result"
    }
   ],
   "source": [
    "data['summary'][0]"
   ]
  },
  {
   "cell_type": "code",
   "execution_count": 4,
   "metadata": {
    "ExecuteTime": {
     "end_time": "2020-01-13T12:38:16.055835Z",
     "start_time": "2020-01-13T12:38:16.048859Z"
    }
   },
   "outputs": [],
   "source": [
    "def prefunc(x):\n",
    "    return re.sub(\"[^a-zA-Z0-9\\.' ]+\", '', x)"
   ]
  },
  {
   "cell_type": "code",
   "execution_count": 6,
   "metadata": {
    "ExecuteTime": {
     "end_time": "2020-01-13T12:38:17.207178Z",
     "start_time": "2020-01-13T12:38:17.198202Z"
    }
   },
   "outputs": [
    {
     "data": {
      "text/plain": [
       "'We propose an architecture for VQA which utilizes recurrent layers togenerate visual and textual attention. The memory characteristic of theproposed recurrent attention units offers a rich joint embedding of visual andtextual features and enables the model to reason relations between severalparts of the image and question. Our single model outperforms the first placewinner on the VQA 1.0 dataset performs within margin to the currentstateoftheart ensemble model. We also experiment with replacing attentionmechanisms in other stateoftheart models with our implementation and showincreased accuracy. In both cases our recurrent attention mechanism improvesperformance in tasks requiring sequential or relational reasoning on the VQAdataset.'"
      ]
     },
     "execution_count": 6,
     "metadata": {},
     "output_type": "execute_result"
    }
   ],
   "source": [
    "prefunc(data['summary'][0])"
   ]
  },
  {
   "cell_type": "code",
   "execution_count": 7,
   "metadata": {
    "ExecuteTime": {
     "end_time": "2020-01-13T12:38:22.834219Z",
     "start_time": "2020-01-13T12:38:20.146770Z"
    }
   },
   "outputs": [],
   "source": [
    "data['summary'] = data['summary'].apply(prefunc)"
   ]
  },
  {
   "cell_type": "markdown",
   "metadata": {},
   "source": [
    "# DL"
   ]
  },
  {
   "cell_type": "code",
   "execution_count": 8,
   "metadata": {
    "ExecuteTime": {
     "end_time": "2020-01-13T12:38:28.923500Z",
     "start_time": "2020-01-13T12:38:24.417703Z"
    }
   },
   "outputs": [],
   "source": [
    "from fastai.text import *"
   ]
  },
  {
   "cell_type": "code",
   "execution_count": 9,
   "metadata": {
    "ExecuteTime": {
     "end_time": "2020-01-13T12:38:29.819632Z",
     "start_time": "2020-01-13T12:38:29.810659Z"
    }
   },
   "outputs": [
    {
     "data": {
      "text/plain": [
       "Index(['author', 'day', 'id', 'link', 'month', 'summary', 'tag', 'title',\n",
       "       'year'],\n",
       "      dtype='object')"
      ]
     },
     "execution_count": 9,
     "metadata": {},
     "output_type": "execute_result"
    }
   ],
   "source": [
    "data.columns"
   ]
  },
  {
   "cell_type": "code",
   "execution_count": 10,
   "metadata": {
    "ExecuteTime": {
     "end_time": "2020-01-13T12:38:31.046519Z",
     "start_time": "2020-01-13T12:38:30.767600Z"
    }
   },
   "outputs": [],
   "source": [
    "torch.cuda.set_device(0)"
   ]
  },
  {
   "cell_type": "code",
   "execution_count": 16,
   "metadata": {
    "ExecuteTime": {
     "end_time": "2020-01-13T12:47:29.620039Z",
     "start_time": "2020-01-13T12:45:45.961914Z"
    }
   },
   "outputs": [
    {
     "data": {
      "text/html": [],
      "text/plain": [
       "<IPython.core.display.HTML object>"
      ]
     },
     "metadata": {},
     "output_type": "display_data"
    },
    {
     "data": {
      "text/html": [],
      "text/plain": [
       "<IPython.core.display.HTML object>"
      ]
     },
     "metadata": {},
     "output_type": "display_data"
    }
   ],
   "source": [
    "data2 = (TextList.from_df(data, cols=5)\n",
    "                .split_by_rand_pct(0.1)\n",
    "               .label_for_lm()  \n",
    "                .databunch(bs=16))\n"
   ]
  },
  {
   "cell_type": "code",
   "execution_count": 17,
   "metadata": {
    "ExecuteTime": {
     "end_time": "2020-01-13T12:47:29.634001Z",
     "start_time": "2020-01-13T12:47:29.624026Z"
    },
    "scrolled": true
   },
   "outputs": [
    {
     "data": {
      "text/plain": [
       "TextLMDataBunch;\n",
       "\n",
       "Train: LabelList (36900 items)\n",
       "x: LMTextList\n",
       "xxbos xxmaj we propose an architecture for xxup vqa which utilizes recurrent layers togenerate visual and textual attention . xxmaj the memory characteristic of theproposed recurrent attention units offers a rich joint embedding of visual andtextual features and enables the model to reason relations between xxunk of the image and question . xxmaj our single model outperforms the first xxunk on the xxup vqa 1.0 dataset performs within margin to the currentstateoftheart ensemble model . xxmaj we also experiment with replacing attentionmechanisms in other stateoftheart models with our implementation and xxunk accuracy . xxmaj in both cases our recurrent attention mechanism improvesperformance in tasks requiring sequential or relational reasoning on the vqadataset .,xxbos xxmaj recent approaches based on artificial neural networks anns have shownpromising results for shorttext classification . xxmaj however many short xxunk in sequences e.g. sentences in a document or utterances in a dialogand most existing annbased systems do not leverage the preceding short xxunk classifying a subsequent one . xxmaj in this work we present a model based onrecurrent neural networks and convolutional neural networks that incorporatesthe preceding short texts . xxmaj our model achieves stateoftheart results on threedifferent datasets for dialog act prediction .,xxbos xxmaj we introduce the multiresolution recurrent neural network which extends thesequencetosequence framework to model natural language generation as xxunk discrete stochastic processes a sequence of highlevel coarse xxunk a sequence of natural language tokens . xxmaj there are many ways to estimate xxunk the highlevel coarse tokens but we argue that a simple xxunk is sufficient to capture a wealth of highlevel discourse semantics . xxmaj such procedure allows training the multiresolution recurrent neural network bymaximizing the exact joint loglikelihood over both sequences . xxmaj in contrast tothe standard log likelihood objective w.r.t . natural language tokens xxunk optimizing the joint loglikelihood biases the model xxunk highlevel abstractions . xxmaj we apply the proposed model to the task ofdialogue response generation in two challenging domains the xxmaj ubuntu xxunk domain and xxmaj twitter conversations . xxmaj on xxmaj ubuntu the model xxunk approaches by a substantial margin achieving stateoftheartresults according to both automatic evaluation metrics and a human xxunk . xxmaj on xxmaj twitter the model appears to generate more relevant and xxunk according to automatic evaluation metrics . xxmaj finally our experimentsdemonstrate that the proposed model is more adept at overcoming the sparsity ofnatural language and is better able to capture longterm structure .,xxbos xxmaj multitask learning is motivated by the observation that humans bring to xxunk they know about related problems when solving new ones . xxmaj similarly deepneural networks can profit from related tasks by sharing parameters with xxunk . xxmaj however humans do not consciously decide to transfer xxunk tasks . xxmaj in xxmaj natural xxmaj language xxmaj processing xxup nlp it is hard to predict xxunk will lead to improvements particularly if tasks are only xxunk . xxmaj to overcome this we introduce xxmaj sluice xxmaj networks a general frameworkfor multitask learning where trainable parameters control the amount ofsharing . xxmaj our framework generalizes previous proposals in enabling sharing ofall combinations of subspaces layers and skip connections . xxmaj we performexperiments on three task pairs and across seven different domains using datafrom ontonotes 5.0 and achieve up to 15 average error reductions over commonapproaches to multitask learning . xxmaj we show that a label entropy is xxunk gains in sluice networks confirming findings for hard parameter sharing andb while sluice networks easily fit noise they are robust across domains inpractice .,xxbos xxmaj we present xxup milabot a deep reinforcement learning chatbot developed by themontreal xxmaj institute for xxmaj learning xxmaj algorithms xxup xxunk for the xxmaj amazon xxmaj alexa xxmaj xxunk . xxup milabot is capable of conversing with humans on popular small xxunk through both speech and text . xxmaj the system consists of an ensemble ofnatural language generation and retrieval models including xxunk bagofwords models sequencetosequence neural network and latentvariable neural network models . xxmaj by applying reinforcement learning xxunk data and realworld user interactions the system has been trainedto select an appropriate response from the models in its ensemble . xxmaj the systemhas been evaluated through xxup ab testing with realworld users where xxunk significantly better than many competing systems . xxmaj due to its machinelearning architecture the system is likely to improve with additional data .\n",
       "y: LMLabelList\n",
       ",,,,\n",
       "Path: .;\n",
       "\n",
       "Valid: LabelList (4100 items)\n",
       "x: LMTextList\n",
       "xxbos xxmaj while all kinds of mixed data from personal data over panel and xxunk to public and commercial data are collected and stored xxunk graphical models for these hybrid domains becomes more difficult . xxmaj users spend significant amounts of time in identifying the parametric form ofthe random variables xxmaj gaussian xxmaj poisson xxmaj logit etc . involved and learning themixed models . xxmaj to make this difficult task easier we propose the xxunk probabilistic deep architecture for hybrid domains that xxunk queries . xxmaj it is based on sumproduct xxmaj networks spns with xxunk leave distributions together with novel nonparametric decompositionand conditioning steps using the xxunk xxunk xxmaj coefficient . xxmaj this relieves the user from deciding apriori theparametric form of the random variables but is still expressive enough toeffectively approximate any continuous distribution and permits efficientlearning and inference . xxmaj our empirical evidence shows that the architecturecalled xxmaj mixed spns can indeed capture complex distributions across a wide rangeof hybrid domains .,xxbos xxmaj purpose xxmaj to determine whether deep learningbased algorithms applied xxunk xxup mr images can aid in the prediction of xxunk invasive disease followingthe di xxunk of xxunk carcinoma in situ xxup xxunk by core needle biopsy . xxmaj material and xxmaj methods xxmaj in this institutional review xxunk study weanalyzed dynamic contrastenhanced xxunk xxmaj t1weighted xxup mri sequences xxunk patients at our institution with a core needle xxunk diagnosisof xxup xxunk . xxmaj the patients had no preoperative therapy before breast xxup mri and noprior history of breast cancer . xxmaj we explored two different deep learningapproaches to predict whether there was a hidden xxunk invasive component inthe analyzed tumors that was ultimately detected at surgical excision . xxmaj in thefirst approach we adopted the transfer learning strategy in which a xxunk on a large dataset of natural images is finetuned with our xxunk . xxmaj specifically we used the googlenet model pretrained on the imagenetdataset . xxmaj in the second approach we used a pretrained network to extract deepfeatures and a support vector machine xxup svm that utilizes these features topredict the xxunk of the xxup xxunk . xxmaj we used 10fold cross validation and thearea under the xxup roc curve xxup auc to estimate the performance of the predictivemodels . xxmaj results xxmaj the best classification performance was obtained using thedeep features approach with googlenet model pretrained on imagenet as thefeature extractor and a polynomial kernel xxup svm used as the classifier xxup auc 0.70 95 xxup ci xxunk 0.79 . xxmaj for the transfer learning based approach thehighest xxup auc obtained was 0.53 95 xxup ci xxunk . xxmaj conclusion xxmaj convolutionalneural networks could potentially be used to identify xxunk invasive xxunk patients diagnosed with xxup xxunk at the initial core needle biopsy .,xxbos xxmaj inferring topics from the overwhelming amount of short texts becomes acritical but challenging task for many content analysis tasks such as xxunk user interest profiling and emerging topic detecting . xxmaj existingmethods such as probabilistic latent semantic analysis xxup plsa and latentdirichlet allocation xxup lda can not solve this prob lem very well since onlyvery limited word cooccurrence information is available in short texts . xxmaj thispaper studies how to incorporate the external word correlation knowledge xxunk texts to improve the coherence of topic modeling . xxmaj based on recent resultsin word embeddings that learn se xxunk representations for words from alarge corpus we introduce a novel method xxmaj embeddingbased xxmaj topic xxmaj model xxunk learn latent topics from short texts . xxup etm not only solves the problem ofvery limited word cooccurrence information by aggregating short texts xxunk pseudo texts but also utilizes a xxmaj markov xxmaj random xxmaj field regularized modelthat gives correlated words a better chance to be put into the same topic . xxmaj theexperiments on realworld datasets validate the effectiveness of our xxunk with the stateoftheart models .,xxbos xxmaj networks play a central role in modern data analysis enabling us to reasonabout systems by studying the relationships between their parts . xxmaj most often innetwork analysis the edges are given . xxmaj however in many systems it is xxunk impossible to measure the network directly . xxmaj examples of latent xxunk economic interactions linking financial instruments and patterns xxunk in gang violence . xxmaj in these cases we are limited to noisyobservations of events associated with each node . xxmaj to enable analysis of xxunk networks we develop a probabilistic model that xxunk point processes with random graph models . xxmaj we show how thepoisson superposition principle enables an elegant auxiliary xxunk and a fullybayesian parallel inference algorithm . xxmaj we xxunk new model empirically on several datasets .,xxbos xxmaj depth sensing devices have created various new applications in scientific andcommercial research with the advent of xxmaj microsoft xxmaj kinect and xxup pmd xxmaj photon xxunk cameras . xxmaj most of these applications require the depth cameras to xxunk . xxmaj however traditional calibration methods using a xxunk not work very well for depth cameras due to the low image resolution . xxmaj inthis paper we propose a depth calibration scheme which excels in xxunk calibration parameters when only a handful of corners and xxunk are available . xxmaj we exploit the noise properties of xxup pmd devices to xxunk measurements and perform camera calibration using the denoised depth asan additional set of measurements . xxmaj our synthetic and real experiments show thatour depth denoising and depth based calibration scheme provides significantlybetter results than traditional calibration methods .\n",
       "y: LMLabelList\n",
       ",,,,\n",
       "Path: .;\n",
       "\n",
       "Test: None"
      ]
     },
     "execution_count": 17,
     "metadata": {},
     "output_type": "execute_result"
    }
   ],
   "source": [
    "data2"
   ]
  },
  {
   "cell_type": "code",
   "execution_count": 18,
   "metadata": {
    "ExecuteTime": {
     "end_time": "2020-01-13T12:47:33.499993Z",
     "start_time": "2020-01-13T12:47:29.638987Z"
    }
   },
   "outputs": [],
   "source": [
    "learn = language_model_learner(data2, AWD_LSTM, drop_mult=0.3)"
   ]
  },
  {
   "cell_type": "code",
   "execution_count": 19,
   "metadata": {
    "ExecuteTime": {
     "end_time": "2020-01-13T12:48:25.624346Z",
     "start_time": "2020-01-13T12:47:33.502989Z"
    }
   },
   "outputs": [
    {
     "data": {
      "text/html": [
       "\n",
       "    <div>\n",
       "        <style>\n",
       "            /* Turns off some styling */\n",
       "            progress {\n",
       "                /* gets rid of default border in Firefox and Opera. */\n",
       "                border: none;\n",
       "                /* Needs to be in here for Safari polyfill so background images work as expected. */\n",
       "                background-size: auto;\n",
       "            }\n",
       "            .progress-bar-interrupted, .progress-bar-interrupted::-webkit-progress-bar {\n",
       "                background: #F44336;\n",
       "            }\n",
       "        </style>\n",
       "      <progress value='0' class='' max='1', style='width:300px; height:20px; vertical-align: middle;'></progress>\n",
       "      0.00% [0/1 00:00<00:00]\n",
       "    </div>\n",
       "    \n",
       "<table border=\"1\" class=\"dataframe\">\n",
       "  <thead>\n",
       "    <tr style=\"text-align: left;\">\n",
       "      <th>epoch</th>\n",
       "      <th>train_loss</th>\n",
       "      <th>valid_loss</th>\n",
       "      <th>accuracy</th>\n",
       "      <th>time</th>\n",
       "    </tr>\n",
       "  </thead>\n",
       "  <tbody>\n",
       "  </tbody>\n",
       "</table><p>\n",
       "\n",
       "    <div>\n",
       "        <style>\n",
       "            /* Turns off some styling */\n",
       "            progress {\n",
       "                /* gets rid of default border in Firefox and Opera. */\n",
       "                border: none;\n",
       "                /* Needs to be in here for Safari polyfill so background images work as expected. */\n",
       "                background-size: auto;\n",
       "            }\n",
       "            .progress-bar-interrupted, .progress-bar-interrupted::-webkit-progress-bar {\n",
       "                background: #F44336;\n",
       "            }\n",
       "        </style>\n",
       "      <progress value='99' class='' max='5161', style='width:300px; height:20px; vertical-align: middle;'></progress>\n",
       "      1.92% [99/5161 00:45<38:59 13.5511]\n",
       "    </div>\n",
       "    "
      ],
      "text/plain": [
       "<IPython.core.display.HTML object>"
      ]
     },
     "metadata": {},
     "output_type": "display_data"
    },
    {
     "name": "stdout",
     "output_type": "stream",
     "text": [
      "LR Finder is complete, type {learner_name}.recorder.plot() to see the graph.\n"
     ]
    }
   ],
   "source": [
    "learn.lr_find()"
   ]
  },
  {
   "cell_type": "code",
   "execution_count": 20,
   "metadata": {
    "ExecuteTime": {
     "end_time": "2020-01-13T12:48:29.956677Z",
     "start_time": "2020-01-13T12:48:29.124075Z"
    }
   },
   "outputs": [
    {
     "data": {
      "image/png": "[encoded data removed]",
      "text/plain": [
       "<Figure size 432x288 with 1 Axes>"
      ]
     },
     "metadata": {
      "needs_background": "light"
     },
     "output_type": "display_data"
    }
   ],
   "source": [
    "learn.recorder.plot()"
   ]
  },
  {
   "cell_type": "code",
   "execution_count": 21,
   "metadata": {
    "ExecuteTime": {
     "end_time": "2020-01-13T14:36:18.773279Z",
     "start_time": "2020-01-13T12:48:35.996418Z"
    }
   },
   "outputs": [
    {
     "data": {
      "text/html": [
       "<table border=\"1\" class=\"dataframe\">\n",
       "  <thead>\n",
       "    <tr style=\"text-align: left;\">\n",
       "      <th>epoch</th>\n",
       "      <th>train_loss</th>\n",
       "      <th>valid_loss</th>\n",
       "      <th>accuracy</th>\n",
       "      <th>time</th>\n",
       "    </tr>\n",
       "  </thead>\n",
       "  <tbody>\n",
       "    <tr>\n",
       "      <td>0</td>\n",
       "      <td>4.897196</td>\n",
       "      <td>4.593517</td>\n",
       "      <td>0.273684</td>\n",
       "      <td>1:47:42</td>\n",
       "    </tr>\n",
       "  </tbody>\n",
       "</table>"
      ],
      "text/plain": [
       "<IPython.core.display.HTML object>"
      ]
     },
     "metadata": {},
     "output_type": "display_data"
    }
   ],
   "source": [
    "learn.fit_one_cycle(1, 1e-2, moms=(0.8,0.7))"
   ]
  },
  {
   "cell_type": "code",
   "execution_count": 22,
   "metadata": {
    "ExecuteTime": {
     "end_time": "2020-01-13T14:36:25.189846Z",
     "start_time": "2020-01-13T14:36:18.778271Z"
    }
   },
   "outputs": [],
   "source": [
    "learn.save('stage-1')"
   ]
  },
  {
   "cell_type": "code",
   "execution_count": null,
   "metadata": {},
   "outputs": [],
   "source": []
  },
  {
   "cell_type": "code",
   "execution_count": 28,
   "metadata": {
    "ExecuteTime": {
     "end_time": "2020-01-13T14:43:31.904203Z",
     "start_time": "2020-01-13T14:43:31.117291Z"
    }
   },
   "outputs": [
    {
     "data": {
      "text/plain": [
       "'Computer vision algorithms are based on large scale image restoration based on the basis of feature descriptors . However it is often in a very general way that the images are learned from a human body and not the background . In this paper we propose a novel text superresolution method that utilizes a large scale of the input . The image is trained by combining a single image pixel with an endtoend trainable accuracy . The image image is trained with an image and the decoder is fused with generalized image patches inwhich the image is encoded'"
      ]
     },
     "execution_count": 28,
     "metadata": {},
     "output_type": "execute_result"
    }
   ],
   "source": [
    "learn.predict('Computer vision',temperature=.75,n_words=100)"
   ]
  },
  {
   "cell_type": "code",
   "execution_count": 29,
   "metadata": {
    "ExecuteTime": {
     "end_time": "2020-01-13T14:44:47.652407Z",
     "start_time": "2020-01-13T14:44:46.825603Z"
    }
   },
   "outputs": [
    {
     "data": {
      "text/plain": [
       "'Annotators using RNN have a limited number of main features . In this paper we describe the frequency of patient conceptual units as they have a high probability of the amount of labeled data . We propose a series of local features which represent the latent representations of the cells . In detail we analyze the the of the acoustic features in the training corpus . We describe a number of parameters and a single different neuron without explicitly describing the target task . We show that the ability to informative sequence . We provide a first'"
      ]
     },
     "execution_count": 29,
     "metadata": {},
     "output_type": "execute_result"
    }
   ],
   "source": [
    "learn.predict('Annotators using RNN',temperature=.75,n_words=100)"
   ]
  },
  {
   "cell_type": "code",
   "execution_count": 30,
   "metadata": {
    "ExecuteTime": {
     "end_time": "2020-01-13T14:49:08.682538Z",
     "start_time": "2020-01-13T14:49:07.843826Z"
    }
   },
   "outputs": [
    {
     "data": {
      "text/plain": [
       "'jithin is a  problem that has neither been described in the past or proofofconcept areas . The notion of a formal digital device has been widely it has been used in efficient verification to better understand the data . However it is still unclear whether the issue of the system can be solved using genetic algorithms and distinguishing it from the nature of the algorithm . In this paper we present a novel approach that allows the use of the or like the vehicle i.e. a deep neural network to resolve stage Markov chain model . The approach'"
      ]
     },
     "execution_count": 30,
     "metadata": {},
     "output_type": "execute_result"
    }
   ],
   "source": [
    "learn.predict('jithin is a ',temperature=.75,n_words=100)"
   ]
  },
  {
   "cell_type": "code",
   "execution_count": 31,
   "metadata": {
    "ExecuteTime": {
     "end_time": "2020-01-13T14:57:40.816149Z",
     "start_time": "2020-01-13T14:57:39.957433Z"
    }
   },
   "outputs": [
    {
     "data": {
      "text/plain": [
       "'The novel approach to the solution of a transformer  network is to perform feature extraction and processing and feature selection . Motivated by the problem of embedding the original deep convolutional network in this family of neural networks to replace deep neural networks with convolutional layers trained on a standard convolutional network for Convolutional Neural Networks cnns and Deep Convolutional Neural Networks cnns on the MNIST CIFAR10 imagenet dataset and Deep Neural Networks CNN and CNN architectures the proposed architecture is a single deep convolutional neural network CNN tuned to the best of'"
      ]
     },
     "execution_count": 31,
     "metadata": {},
     "output_type": "execute_result"
    }
   ],
   "source": [
    "learn.predict('The novel approach to the solution of a transformer ',temperature=.75,n_words=100)"
   ]
  },
  {
   "cell_type": "code",
   "execution_count": 33,
   "metadata": {
    "ExecuteTime": {
     "end_time": "2020-01-13T15:01:53.591354Z",
     "start_time": "2020-01-13T15:01:52.796972Z"
    }
   },
   "outputs": [
    {
     "data": {
      "text/plain": [
       "\"From the above we see that mayu is a   very important task in many applications . For example this article provides a very novel framework for estimating the number of pixels the distribution of objects . Some of this works significantly better than existing views . This paper presents a novel approach for characterizing the reliability of a value function that is a robot 's control connectivity . Our approach is based on the 3D light cloud and is a novel strategy to detect the objects of the objects in order to acquire a lossy image . The proposed method is utilized to\""
      ]
     },
     "execution_count": 33,
     "metadata": {},
     "output_type": "execute_result"
    }
   ],
   "source": [
    "learn.predict('From the above we see that mayu is a  ',temperature=.75,n_words=100)"
   ]
  },
  {
   "cell_type": "code",
   "execution_count": null,
   "metadata": {},
   "outputs": [],
   "source": []
  },
  {
   "cell_type": "code",
   "execution_count": null,
   "metadata": {},
   "outputs": [],
   "source": []
  }
 ],
 "metadata": {
  "kernelspec": {
   "display_name": "Python 3",
   "language": "python",
   "name": "python3"
  },
  "language_info": {
   "codemirror_mode": {
    "name": "ipython",
    "version": 3
   },
   "file_extension": ".py",
   "mimetype": "text/x-python",
   "name": "python",
   "nbconvert_exporter": "python",
   "pygments_lexer": "ipython3",
   "version": "3.7.6"
  },
  "toc": {
   "base_numbering": 1,
   "nav_menu": {},
   "number_sections": true,
   "sideBar": true,
   "skip_h1_title": false,
   "title_cell": "Table of Contents",
   "title_sidebar": "Contents",
   "toc_cell": false,
   "toc_position": {},
   "toc_section_display": true,
   "toc_window_display": false
  }
 },
 "nbformat": 4,
 "nbformat_minor": 2
}
